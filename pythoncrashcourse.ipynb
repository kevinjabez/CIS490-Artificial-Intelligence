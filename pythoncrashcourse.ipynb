{
  "nbformat": 4,
  "nbformat_minor": 0,
  "metadata": {
    "colab": {
      "name": "pythoncrashcourse.ipynb",
      "provenance": [],
      "authorship_tag": "ABX9TyMQJAKckxnDxrXr1yD2EwX0",
      "include_colab_link": true
    },
    "kernelspec": {
      "name": "python3",
      "display_name": "Python 3"
    },
    "language_info": {
      "name": "python"
    }
  },
  "cells": [
    {
      "cell_type": "markdown",
      "metadata": {
        "id": "view-in-github",
        "colab_type": "text"
      },
      "source": [
        "<a href=\"https://colab.research.google.com/github/kevinjabez/CIS490-Artificial-Intelligence/blob/Python/pythoncrashcourse.ipynb\" target=\"_parent\"><img src=\"https://colab.research.google.com/assets/colab-badge.svg\" alt=\"Open In Colab\"/></a>"
      ]
    },
    {
      "cell_type": "markdown",
      "source": [
        "Python Intro\n",
        "==============\n",
        "# common program elements\n",
        "\n",
        "*  IO\n",
        "  * Console\n",
        "  * File \n",
        "\n",
        "*  Data Stuctures \n",
        "  * list\n",
        "  * dict\n",
        "  * variables\n",
        "  * tuple\n",
        "\n",
        "*  Program Structures\n",
        "  * loops\n",
        "  * If statements\n",
        "  "
      ],
      "metadata": {
        "id": "B8UOPHDA5oo4"
      }
    },
    {
      "cell_type": "code",
      "execution_count": null,
      "metadata": {
        "id": "-WE_6qhJ4UKd",
        "colab": {
          "base_uri": "https://localhost:8080/"
        },
        "outputId": "ae76d388-98fe-444b-8e37-542bed0c3411"
      },
      "outputs": [
        {
          "output_type": "stream",
          "name": "stdout",
          "text": [
            "Hello World!\n"
          ]
        }
      ],
      "source": [
        "print(\"Hello World!\")\n"
      ]
    },
    {
      "cell_type": "code",
      "source": [
        "mascot = input(\"Who is NU's mascot?\")\n",
        "print(\"NU's mascot is: \", mascot)"
      ],
      "metadata": {
        "colab": {
          "base_uri": "https://localhost:8080/"
        },
        "id": "XeGF3baF8cNc",
        "outputId": "0a852f1c-2aaf-41e3-b9e2-f5207b78ee5f"
      },
      "execution_count": null,
      "outputs": [
        {
          "output_type": "stream",
          "name": "stdout",
          "text": [
            "Who is NU's mascot?monte\n",
            "NU's mascot is:  monte\n"
          ]
        }
      ]
    },
    {
      "cell_type": "code",
      "source": [
        "#variables\n",
        "a = 5\n",
        "b = a\n",
        "a = 3\n",
        "print(\"a:\",a)\n",
        "print(\"b:\",b)"
      ],
      "metadata": {
        "colab": {
          "base_uri": "https://localhost:8080/"
        },
        "id": "yXvhe-OO9Uqr",
        "outputId": "b2a4237e-aa95-4481-829f-d39daa1707a8"
      },
      "execution_count": null,
      "outputs": [
        {
          "output_type": "stream",
          "name": "stdout",
          "text": [
            "a: 3\n",
            "b: 5\n"
          ]
        }
      ]
    },
    {
      "cell_type": "code",
      "source": [
        "#list\n",
        "a = [1,2,3,4,5]\n",
        "print(\"a:\",a)\n",
        "print(\"a[0]:\",a[0] )\n",
        "print(\"a[-1]\",a[-1])"
      ],
      "metadata": {
        "colab": {
          "base_uri": "https://localhost:8080/"
        },
        "id": "KovhKq8v93n5",
        "outputId": "285bfdab-5471-432a-e77e-026bc6793ad1"
      },
      "execution_count": null,
      "outputs": [
        {
          "output_type": "stream",
          "name": "stdout",
          "text": [
            "a: [1, 2, 3, 4, 5]\n",
            "a[0]: 1\n",
            "a[-1] 5\n"
          ]
        }
      ]
    },
    {
      "cell_type": "code",
      "source": [
        "x =['a','b','c',2]\n",
        "y = x\n",
        "x[0] = [\"MONTE WAS HERE!\"]\n",
        "print(\"x:\", x)\n",
        "print(\"y:\",y)"
      ],
      "metadata": {
        "colab": {
          "base_uri": "https://localhost:8080/"
        },
        "id": "ssYHPVPV-xxZ",
        "outputId": "97796904-1cc5-4566-cf7f-b94b133048c7"
      },
      "execution_count": null,
      "outputs": [
        {
          "output_type": "stream",
          "name": "stdout",
          "text": [
            "x: [['MONTE WAS HERE!'], 'b', 'c', 2]\n",
            "y: [['MONTE WAS HERE!'], 'b', 'c', 2]\n"
          ]
        }
      ]
    },
    {
      "cell_type": "code",
      "source": [
        "x.append('e')\n",
        "print(x)\n",
        "print(y)"
      ],
      "metadata": {
        "colab": {
          "base_uri": "https://localhost:8080/"
        },
        "id": "XcUVW9Jj_U7v",
        "outputId": "47dddd43-08ba-46d8-a449-7bdf03c4480a"
      },
      "execution_count": null,
      "outputs": [
        {
          "output_type": "stream",
          "name": "stdout",
          "text": [
            "[['MONTE WAS HERE!'], 'b', 'c', 2, 'e']\n",
            "[['MONTE WAS HERE!'], 'b', 'c', 2, 'e']\n"
          ]
        }
      ]
    },
    {
      "cell_type": "code",
      "source": [
        "#basic math\n",
        "x = 3\n",
        "y = 2\n",
        "a = 5\n",
        "b = 10\n",
        "f = 9\n",
        "z = 5**2\n",
        "h = 5/6\n",
        "print(\"h = \", round(h,2))"
      ],
      "metadata": {
        "colab": {
          "base_uri": "https://localhost:8080/"
        },
        "id": "Nwo_oja__ir9",
        "outputId": "db0080b0-8afe-4c5a-8d5e-8c100b6ad686"
      },
      "execution_count": null,
      "outputs": [
        {
          "output_type": "stream",
          "name": "stdout",
          "text": [
            "h =  0.83\n"
          ]
        }
      ]
    },
    {
      "cell_type": "code",
      "source": [
        "#DICT\n",
        "names = [\"Christian\",\"Raquan\",\"Michael\"]\n",
        "fav_name = [3,16,4]\n",
        "n = \"Raquan\"\n",
        "\n"
      ],
      "metadata": {
        "id": "HgQoYj1FBW9R"
      },
      "execution_count": null,
      "outputs": []
    },
    {
      "cell_type": "code",
      "source": [
        "65 % 2\n"
      ],
      "metadata": {
        "colab": {
          "base_uri": "https://localhost:8080/"
        },
        "id": "fMLDzCHLELyY",
        "outputId": "ede8fc26-ad7c-4d36-cec1-acb7ae73ef71"
      },
      "execution_count": null,
      "outputs": [
        {
          "output_type": "execute_result",
          "data": {
            "text/plain": [
              "1"
            ]
          },
          "metadata": {},
          "execution_count": 14
        }
      ]
    }
  ]
}